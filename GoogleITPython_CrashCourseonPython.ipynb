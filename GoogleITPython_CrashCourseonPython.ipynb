{
  "nbformat": 4,
  "nbformat_minor": 0,
  "metadata": {
    "colab": {
      "name": "GoogleITPython- CrashCourseonPython",
      "provenance": [],
      "collapsed_sections": [],
      "authorship_tag": "ABX9TyP9Zx9FKUZdm/3WYLs3wgx5",
      "include_colab_link": true
    },
    "kernelspec": {
      "name": "python3",
      "display_name": "Python 3"
    }
  },
  "cells": [
    {
      "cell_type": "markdown",
      "metadata": {
        "id": "view-in-github",
        "colab_type": "text"
      },
      "source": [
        "<a href=\"https://colab.research.google.com/github/VaitheeswarMadesh/-100Daysofcode/blob/master/GoogleITPython_CrashCourseonPython.ipynb\" target=\"_parent\"><img src=\"https://colab.research.google.com/assets/colab-badge.svg\" alt=\"Open In Colab\"/></a>"
      ]
    },
    {
      "cell_type": "code",
      "metadata": {
        "id": "oZhFpv-3d8Ep",
        "colab_type": "code",
        "outputId": "3ac0c28f-b5c2-44eb-9371-1e2dbb1c8fe8",
        "colab": {
          "base_uri": "https://localhost:8080/",
          "height": 102
        }
      },
      "source": [
        "def print_prime_factors(number):\n",
        "  # Start with two, which is the first prime\n",
        "  factor =2\n",
        "  # Keep going until the factor is larger than the number\n",
        "  while factor <= number:\n",
        "    # Check if factor is a divisor of number\n",
        "    if number % factor == 0:\n",
        "      # If it is, print it and divide the original number\n",
        "      print(factor)\n",
        "      number = number / factor\n",
        "    else:\n",
        "      # If it's not, increment the factor by one\n",
        "      factor+=1\n",
        "\n",
        "  return \"Done\"\n",
        "\n",
        "print_prime_factors(100) # Should print 2,2,5,5\n",
        "# DO NOT DELETE THIS COMMENT"
      ],
      "execution_count": 0,
      "outputs": [
        {
          "output_type": "stream",
          "text": [
            "2\n",
            "2\n",
            "5\n",
            "5\n"
          ],
          "name": "stdout"
        },
        {
          "output_type": "execute_result",
          "data": {
            "text/plain": [
              "'Done'"
            ]
          },
          "metadata": {
            "tags": []
          },
          "execution_count": 3
        }
      ]
    },
    {
      "cell_type": "code",
      "metadata": {
        "id": "3BnuP2Plf43T",
        "colab_type": "code",
        "outputId": "718a3f77-59b6-4325-a6de-a0cbdd230d55",
        "colab": {
          "base_uri": "https://localhost:8080/",
          "height": 85
        }
      },
      "source": [
        "def is_power_of_two(n):\n",
        "  # Check if the number can be divided by two without a remainder\n",
        "  while n % 2 == 0:\n",
        "    if n == 0 :\n",
        "      break;      \n",
        "    n = n / 2\n",
        "# If after dividing by two the number is 1, it's a power of two\n",
        "  if n == 1:\n",
        "    return True\n",
        "  return False\n",
        "  \n",
        "\n",
        "print(is_power_of_two(0)) # Should be False\n",
        "print(is_power_of_two(1)) # Should be True\n",
        "print(is_power_of_two(8)) # Should be True\n",
        "print(is_power_of_two(9)) # Should be False"
      ],
      "execution_count": 0,
      "outputs": [
        {
          "output_type": "stream",
          "text": [
            "False\n",
            "True\n",
            "True\n",
            "False\n"
          ],
          "name": "stdout"
        }
      ]
    },
    {
      "cell_type": "code",
      "metadata": {
        "id": "gZGBUTvkf9S9",
        "colab_type": "code",
        "colab": {}
      },
      "source": [
        "def multiplication_table(number):\n",
        "\t# Initialize the starting point of the multiplication table\n",
        "\tmultiplier = 1\n",
        "\t# Only want to loop through 5\n",
        "\twhile multiplier <= 5:\n",
        "\t\tresult = multiplier * number \n",
        "\t\t# What is the additional condition to exit out of the loop?\n",
        "\t\tif result > 25:\n",
        "\t\t\tbreak\n",
        "\t\tprint(str(number) + \"x\" + str(multiplier) + \"=\" + str(result))\n",
        "\t\t# Increment the variable for the loop\n",
        "\t\tmultiplier += 1\n",
        "\n",
        "multiplication_table(3) \n",
        "# Should print: 3x1=3 3x2=6 3x3=9 3x4=12 3x5=15\n",
        "\n",
        "multiplication_table(5) \n",
        "# Should print: 5x1=5 5x2=10 5x3=15 5x4=20 5x5=25\n",
        "\n",
        "multiplication_table(8)\t\n",
        "# Should print: 8x1=8 8x2=16 8x3=24"
      ],
      "execution_count": 0,
      "outputs": []
    },
    {
      "cell_type": "code",
      "metadata": {
        "id": "AxUQp9Vg9ljp",
        "colab_type": "code",
        "colab": {
          "base_uri": "https://localhost:8080/",
          "height": 204
        },
        "outputId": "7b8d786d-b4c3-4a4e-c986-f038046f16d7"
      },
      "source": [
        "def factorial(n):\n",
        "    result = 1\n",
        "    for x in range(1,n+1):\n",
        "        result = result * x\n",
        "    return result\n",
        "\n",
        "for n in range(0,11):\n",
        "    print(n, factorial(n+1))"
      ],
      "execution_count": 6,
      "outputs": [
        {
          "output_type": "stream",
          "text": [
            "0 1\n",
            "1 2\n",
            "2 6\n",
            "3 24\n",
            "4 120\n",
            "5 720\n",
            "6 5040\n",
            "7 40320\n",
            "8 362880\n",
            "9 3628800\n",
            "10 39916800\n"
          ],
          "name": "stdout"
        }
      ]
    },
    {
      "cell_type": "code",
      "metadata": {
        "id": "G81JXx7YE7VO",
        "colab_type": "code",
        "colab": {
          "base_uri": "https://localhost:8080/",
          "height": 68
        },
        "outputId": "568ee382-bb31-4a27-f833-c44425b0ad73"
      },
      "source": [
        "def votes(params):\n",
        "\tfor vote in params:\n",
        "\t    print(\"Possible option:\" + vote)\n",
        "votes(['yes','no','maybe'])"
      ],
      "execution_count": 8,
      "outputs": [
        {
          "output_type": "stream",
          "text": [
            "Possible option:yes\n",
            "Possible option:no\n",
            "Possible option:maybe\n"
          ],
          "name": "stdout"
        }
      ]
    },
    {
      "cell_type": "code",
      "metadata": {
        "id": "oJpyIcErFQLW",
        "colab_type": "code",
        "colab": {}
      },
      "source": [
        "def decade_counter():\n",
        "\twhile year < 50:\n",
        "\t\tyear += 1\n",
        "\treturn year"
      ],
      "execution_count": 0,
      "outputs": []
    },
    {
      "cell_type": "code",
      "metadata": {
        "id": "TZtK8arQHRZ0",
        "colab_type": "code",
        "colab": {}
      },
      "source": [
        "def evenOdd(maxNum):\n",
        "\t# Start with empty lists for even and odd numbers\n",
        "\tevens = []\n",
        "\todds = []\n",
        "\t# Loop through every integer up to the input maxNum\t\n",
        "\tfor num in range(1, maxNum + 1):\n",
        "\t\t# Test if the number is even\n",
        "\t\tif num % 2 == 0:\n",
        "\t\t\tevens.append(num)\n",
        "\t\telse:\n",
        "\t\t\todds.append(num)\n",
        "\tprint(\"Evens:\", evens)\n",
        "\tprint(\"Odds:\", odds)"
      ],
      "execution_count": 0,
      "outputs": []
    },
    {
      "cell_type": "code",
      "metadata": {
        "id": "01VidGJ7IJ-Z",
        "colab_type": "code",
        "colab": {
          "base_uri": "https://localhost:8080/",
          "height": 102
        },
        "outputId": "3f6943af-e402-44a8-9ee7-3338f7e0d8ea"
      },
      "source": [
        "def even_numbers(maximum):\n",
        "\treturn_string = \"\"\n",
        "\tfor x in range(1,maximum+1):\n",
        "\t  if x % 2 == 0:\n",
        "\t    return_string += str(x) + \" \"\n",
        "\treturn return_string.strip()\n",
        "\n",
        "print(even_numbers(6))  # Should be 2 4 6\n",
        "print(even_numbers(10)) # Should be 2 4 6 8 10\n",
        "print(even_numbers(1))  # No numbers displayed\n",
        "print(even_numbers(3))  # Should be 2\n",
        "print(even_numbers(0))  # No numbers displayed"
      ],
      "execution_count": 22,
      "outputs": [
        {
          "output_type": "stream",
          "text": [
            "2 4 6\n",
            "2 4 6 8 10\n",
            "\n",
            "2\n",
            "\n"
          ],
          "name": "stdout"
        }
      ]
    },
    {
      "cell_type": "code",
      "metadata": {
        "id": "hG2fYABiLfp9",
        "colab_type": "code",
        "colab": {
          "base_uri": "https://localhost:8080/",
          "height": 34
        },
        "outputId": "6b2339bd-ecb5-45c3-de4e-5802fc902ea4"
      },
      "source": [
        "def multiplication_table(start, stop):\n",
        "    for x in range(1, 2):\n",
        "        for y in range(1, 3):\n",
        "            print(str(x * y), end=\" \")\n",
        "        print()\n",
        "\n",
        "multiplication_table(1, 3)"
      ],
      "execution_count": 24,
      "outputs": [
        {
          "output_type": "stream",
          "text": [
            "1 2 \n"
          ],
          "name": "stdout"
        }
      ]
    },
    {
      "cell_type": "code",
      "metadata": {
        "id": "8qdCkQf0MSax",
        "colab_type": "code",
        "colab": {
          "base_uri": "https://localhost:8080/",
          "height": 85
        },
        "outputId": "701bcf5c-48f7-4be0-d701-ebef3520a7c7"
      },
      "source": [
        "def digits(n):\n",
        "   count = 0\n",
        "   if n == 0:\n",
        "      return 1\n",
        "   while (n > 0):\n",
        "      count += 1\n",
        "      n = n//10\n",
        "   return count\n",
        "\n",
        "print(digits(25))  # Should print 2\n",
        "print(digits(144)) # Should print 3\n",
        "print(digits(1000)) # Should print 4\n",
        "print(digits(0))   # Should print 1"
      ],
      "execution_count": 26,
      "outputs": [
        {
          "output_type": "stream",
          "text": [
            "2\n",
            "3\n",
            "4\n",
            "1\n"
          ],
          "name": "stdout"
        }
      ]
    },
    {
      "cell_type": "code",
      "metadata": {
        "id": "uROS1GnWNaE6",
        "colab_type": "code",
        "colab": {
          "base_uri": "https://localhost:8080/",
          "height": 102
        },
        "outputId": "b8f31c69-47c1-48de-cfc2-229256d7faab"
      },
      "source": [
        "def show_letters(word):\n",
        "  for x in range(0, len(word)):\n",
        "    print(word[x])\n",
        "\n",
        "show_letters(\"hello\")"
      ],
      "execution_count": 27,
      "outputs": [
        {
          "output_type": "stream",
          "text": [
            "h\n",
            "e\n",
            "l\n",
            "l\n",
            "o\n"
          ],
          "name": "stdout"
        }
      ]
    },
    {
      "cell_type": "code",
      "metadata": {
        "id": "thk0J4e5N0wT",
        "colab_type": "code",
        "colab": {
          "base_uri": "https://localhost:8080/",
          "height": 34
        },
        "outputId": "38156868-7d3f-4ec6-bc31-80e11d5ec530"
      },
      "source": [
        "number = 1\n",
        "while number <= 7:\n",
        "\tprint(number, end=\" \")\n",
        "\tnumber += 1"
      ],
      "execution_count": 30,
      "outputs": [
        {
          "output_type": "stream",
          "text": [
            "1 2 3 4 5 6 7 "
          ],
          "name": "stdout"
        }
      ]
    },
    {
      "cell_type": "code",
      "metadata": {
        "id": "31GwmzaEOQ6u",
        "colab_type": "code",
        "colab": {
          "base_uri": "https://localhost:8080/",
          "height": 68
        },
        "outputId": "72d9ca7c-71cb-49d3-f3bc-02e796938648"
      },
      "source": [
        "def multiplication_table(start, stop):\n",
        "\tfor x in range(start,stop+1):\n",
        "\t\tfor y in range(start,stop+1):\n",
        "\t\t\tprint(str(x*y), end=\" \")\n",
        "\t\tprint()\n",
        "\n",
        "multiplication_table(1, 3)"
      ],
      "execution_count": 31,
      "outputs": [
        {
          "output_type": "stream",
          "text": [
            "1 2 3 \n",
            "2 4 6 \n",
            "3 6 9 \n"
          ],
          "name": "stdout"
        }
      ]
    },
    {
      "cell_type": "code",
      "metadata": {
        "id": "bkhDujTpbVMM",
        "colab_type": "code",
        "colab": {
          "base_uri": "https://localhost:8080/",
          "height": 68
        },
        "outputId": "7d51eb54-94e7-431e-bc05-000ae0a9abe0"
      },
      "source": [
        "def double_word(word):\n",
        "    return word * 2 + str(len(word * 2))\n",
        "\n",
        "print(double_word(\"hello\")) # Should return hellohello10\n",
        "print(double_word(\"abc\"))   # Should return abcabc6\n",
        "print(double_word(\"\"))      # Should return 0"
      ],
      "execution_count": 32,
      "outputs": [
        {
          "output_type": "stream",
          "text": [
            "hellohello10\n",
            "abcabc6\n",
            "0\n"
          ],
          "name": "stdout"
        }
      ]
    },
    {
      "cell_type": "code",
      "metadata": {
        "id": "hN6s7bZSJW_y",
        "colab_type": "code",
        "colab": {}
      },
      "source": [
        "def counter(start, stop):\n",
        "\tx = start\n",
        "\tif x > stop:\n",
        "\t\treturn_string = \"Counting down: \"\n",
        "\t\twhile x >= stop:\n",
        "\t\t\treturn_string += str(x)\n",
        "\t\t\tif x>stop:\n",
        "\t\t\t\treturn_string += \",\"\n",
        "\t\t\tx = x - 1\n",
        "\telse:\n",
        "\t\treturn_string = \"Counting up: \"\n",
        "\t\twhile x <= stop:\n",
        "\t\t\treturn_string += str(x)\n",
        "\t\t\tif  x<stop:\n",
        "\t\t\t\treturn_string += \",\"\n",
        "\t\t\tx = x+1\n",
        "\treturn return_string\n",
        "\n",
        "print(counter(1, 10)) # Should be \"Counting up: 1,2,3,4,5,6,7,8,9,10\"\n",
        "print(counter(2, 1)) # Should be \"Counting down: 2,1\"\n",
        "print(counter(5, 5)) # Should be \"Counting up: 5\""
      ],
      "execution_count": 0,
      "outputs": []
    },
    {
      "cell_type": "code",
      "metadata": {
        "id": "mVZrSjfG-Fzp",
        "colab_type": "code",
        "colab": {
          "base_uri": "https://localhost:8080/",
          "height": 214
        },
        "outputId": "2c9c5025-580a-4df4-c5ee-2cc9d800f237"
      },
      "source": [
        "def retry(operation, attempts):\n",
        "  for n in range(attempts):\n",
        "    if operation():\n",
        "      print(\"Attempt \" + str(n) + \" succeeded\")\n",
        "      break\n",
        "    else:\n",
        "      print(\"Attempt \" + str(n) + \" failed\")\n",
        "\n",
        "retry(create_user, 3)\n",
        "retry(stop_service, 5)"
      ],
      "execution_count": 4,
      "outputs": [
        {
          "output_type": "error",
          "ename": "NameError",
          "evalue": "ignored",
          "traceback": [
            "\u001b[0;31m---------------------------------------------------------------------------\u001b[0m",
            "\u001b[0;31mNameError\u001b[0m                                 Traceback (most recent call last)",
            "\u001b[0;32m<ipython-input-4-322c3af3d2dc>\u001b[0m in \u001b[0;36m<module>\u001b[0;34m()\u001b[0m\n\u001b[1;32m      7\u001b[0m       \u001b[0mprint\u001b[0m\u001b[0;34m(\u001b[0m\u001b[0;34m\"Attempt \"\u001b[0m \u001b[0;34m+\u001b[0m \u001b[0mstr\u001b[0m\u001b[0;34m(\u001b[0m\u001b[0mn\u001b[0m\u001b[0;34m)\u001b[0m \u001b[0;34m+\u001b[0m \u001b[0;34m\" failed\"\u001b[0m\u001b[0;34m)\u001b[0m\u001b[0;34m\u001b[0m\u001b[0;34m\u001b[0m\u001b[0m\n\u001b[1;32m      8\u001b[0m \u001b[0;34m\u001b[0m\u001b[0m\n\u001b[0;32m----> 9\u001b[0;31m \u001b[0mretry\u001b[0m\u001b[0;34m(\u001b[0m\u001b[0mcreate_user\u001b[0m\u001b[0;34m,\u001b[0m \u001b[0;36m3\u001b[0m\u001b[0;34m)\u001b[0m\u001b[0;34m\u001b[0m\u001b[0;34m\u001b[0m\u001b[0m\n\u001b[0m\u001b[1;32m     10\u001b[0m \u001b[0mretry\u001b[0m\u001b[0;34m(\u001b[0m\u001b[0mstop_service\u001b[0m\u001b[0;34m,\u001b[0m \u001b[0;36m5\u001b[0m\u001b[0;34m)\u001b[0m\u001b[0;34m\u001b[0m\u001b[0;34m\u001b[0m\u001b[0m\n",
            "\u001b[0;31mNameError\u001b[0m: name 'create_user' is not defined"
          ]
        }
      ]
    },
    {
      "cell_type": "code",
      "metadata": {
        "id": "34u8o2Q4_Dg0",
        "colab_type": "code",
        "colab": {
          "base_uri": "https://localhost:8080/",
          "height": 272
        },
        "outputId": "f6c65ef0-78f2-428d-84e8-8a83bf44cb88"
      },
      "source": [
        "for x in range(0,100,7):\n",
        "  if (x % 7 == 0):\n",
        "    print(x)"
      ],
      "execution_count": 5,
      "outputs": [
        {
          "output_type": "stream",
          "text": [
            "0\n",
            "7\n",
            "14\n",
            "21\n",
            "28\n",
            "35\n",
            "42\n",
            "49\n",
            "56\n",
            "63\n",
            "70\n",
            "77\n",
            "84\n",
            "91\n",
            "98\n"
          ],
          "name": "stdout"
        }
      ]
    },
    {
      "cell_type": "code",
      "metadata": {
        "id": "YzncHA6V_6db",
        "colab_type": "code",
        "colab": {}
      },
      "source": [
        "for x in range(1,11):\n",
        "  print(x**3)"
      ],
      "execution_count": 0,
      "outputs": []
    }
  ]
}